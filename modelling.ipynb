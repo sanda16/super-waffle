{
 "cells": [
  {
   "cell_type": "code",
   "execution_count": null,
   "metadata": {},
   "outputs": [],
   "source": []
  }
 ],
 "metadata": {
  "kernelspec": {
   "display_name": "Python 3.10.4 ('MOLE-Tables-y9U5-Jar')",
   "language": "python",
   "name": "python3"
  },
  "language_info": {
   "name": "python",
   "version": "3.10.4"
  },
  "orig_nbformat": 4,
  "vscode": {
   "interpreter": {
    "hash": "0aff497bc2516b16588b5dedb62903c68ee229d6be59804bff7370185b135be3"
   }
  }
 },
 "nbformat": 4,
 "nbformat_minor": 2
}
