{
 "cells": [
  {
   "cell_type": "code",
   "execution_count": 11,
   "metadata": {},
   "outputs": [],
   "source": [
    "from faker import Faker\n",
    "from random import randint\n",
    "from datetime import datetime, timedelta\n",
    "from mole import app, db\n",
    "from mole.models import User, Crime\n",
    "\n"
   ]
  },
  {
   "cell_type": "code",
   "execution_count": 12,
   "metadata": {},
   "outputs": [],
   "source": [
    "from faker import Faker\n",
    "from random import randint\n",
    "from datetime import datetime, timedelta\n"
   ]
  },
  {
   "cell_type": "code",
   "execution_count": 13,
   "metadata": {},
   "outputs": [],
   "source": [
    "fake = Faker()\n"
   ]
  },
  {
   "cell_type": "code",
   "execution_count": 14,
   "metadata": {},
   "outputs": [],
   "source": [
    "\n",
    "# Generate fake crime data\n",
    "def generate_crime_data(num_records):\n",
    "    crimes = []\n",
    "    for i in range(num_records):\n",
    "        crime_type = fake.random_element(elements=('Assault', 'Housebreaking', 'Rape', 'Highjack'))\n",
    "        location = fake.address()\n",
    "        day_of_week = fake.random_element(elements=('Monday', 'Tuesday', 'Wednesday', 'Thursday', 'Friday', 'Saturday', 'Sunday'))\n",
    "        crime_time = fake.time(pattern='%H:%M:%S')\n",
    "        time_str = f\"{fake.date_between(start_date='-7d', end_date='today')} {crime_time}\"\n",
    "        time = datetime.strptime(time_str, '%Y-%m-%d %H:%M:%S')\n",
    "        crimes.append(Crime(type=crime_type, location=location, day_of_week=day_of_week, time=time))\n",
    "    return crimes"
   ]
  },
  {
   "cell_type": "code",
   "execution_count": 15,
   "metadata": {},
   "outputs": [],
   "source": [
    "with app.app_context():\n",
    "    fake_crimes = generate_crime_data(100)\n",
    "    db.session.add_all(fake_crimes)\n",
    "    db.session.commit()"
   ]
  },
  {
   "cell_type": "code",
   "execution_count": null,
   "metadata": {},
   "outputs": [],
   "source": []
  }
 ],
 "metadata": {
  "kernelspec": {
   "display_name": "Python 3.10.4 ('MOLE-Tables-y9U5-Jar')",
   "language": "python",
   "name": "python3"
  },
  "language_info": {
   "codemirror_mode": {
    "name": "ipython",
    "version": 3
   },
   "file_extension": ".py",
   "mimetype": "text/x-python",
   "name": "python",
   "nbconvert_exporter": "python",
   "pygments_lexer": "ipython3",
   "version": "3.10.4"
  },
  "orig_nbformat": 4,
  "vscode": {
   "interpreter": {
    "hash": "0aff497bc2516b16588b5dedb62903c68ee229d6be59804bff7370185b135be3"
   }
  }
 },
 "nbformat": 4,
 "nbformat_minor": 2
}
